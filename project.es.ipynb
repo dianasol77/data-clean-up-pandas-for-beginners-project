{
 "cells": [
  {
   "cell_type": "markdown",
   "id": "66fac57f",
   "metadata": {},
   "source": [
    "# Prácticas básicas con Python\n",
    "\n",
    "#### Ejercicio 00. Declaración de Variables\n",
    "\n",
    "Define las siguientes variables con valores que tú elijas:\n",
    "\n",
    "- Una variable que almacene tu nombre (texto).\n",
    "- Una variable que almacene tu edad (número entero).\n",
    "- Una variable que indique si te gusta la programación (verdadero o falso).\n",
    "- Una variable que almacene tu calificación promedio (número decimal).\n"
   ]
  },
  {
   "cell_type": "code",
   "execution_count": 35,
   "id": "4eca514d",
   "metadata": {},
   "outputs": [
    {
     "name": "stdout",
     "output_type": "stream",
     "text": [
      "Mi nombre es Diana Landa\n",
      "Tengo 36 años\n",
      "¿Te gusta la programación?: True\n",
      "8.7\n"
     ]
    }
   ],
   "source": [
    "# Declara aquí tus variables.\n",
    "nombre = \"Diana Landa\"\n",
    "edad = 36\n",
    "me_gusta_programar = True\n",
    "calificación_promedio = 8.7\n",
    "print(\"Mi nombre es\" ,  nombre)\n",
    "print(\"Tengo\" , edad , \"años\")\n",
    "print(\"¿Te gusta la programación?:\", me_gusta_programar)\n",
    "print(calificación_promedio) "
   ]
  },
  {
   "cell_type": "markdown",
   "id": "21e43590",
   "metadata": {},
   "source": [
    "- Crea una lista con tus cinco números favoritos e imprimelo."
   ]
  },
  {
   "cell_type": "code",
   "execution_count": 2,
   "id": "69f9e072",
   "metadata": {},
   "outputs": [
    {
     "name": "stdout",
     "output_type": "stream",
     "text": [
      "[2, 4, 8, 12, 77]\n"
     ]
    }
   ],
   "source": [
    "# Lista de números favoritos\n",
    "numeros_favoritos = [2,4,8,12,77]\n",
    "print(numeros_favoritos)"
   ]
  },
  {
   "cell_type": "markdown",
   "id": "9946452f",
   "metadata": {},
   "source": [
    "- Crea un diccionario que guarde la información de un estudiante e imprimelo:\n",
    "\n",
    "        - Nombre\n",
    "        - Edad\n",
    "        - Calificación final"
   ]
  },
  {
   "cell_type": "code",
   "execution_count": 3,
   "id": "0d30fb44",
   "metadata": {},
   "outputs": [
    {
     "name": "stdout",
     "output_type": "stream",
     "text": [
      "{'nombre': 'Gisela', 'edad': 19, 'calificacion_final': 10}\n"
     ]
    }
   ],
   "source": [
    "# Diccionario del estudiante\n",
    "estudiante = {\n",
    "    \"nombre\": \"Gisela\",\n",
    "    \"edad\": 19,\n",
    "    \"calificacion_final\": 10\n",
    "}\n",
    "print(estudiante)"
   ]
  },
  {
   "cell_type": "markdown",
   "id": "91eb860d",
   "metadata": {},
   "source": [
    "#### Ejercicio 01. Análisis de datos básico con estructuras nativas de python.\n",
    "Crea una lista con las calificaciones de 5 estudiantes: [8.5, 9.2, 7.8, 8.9, 10].\n",
    "\n",
    "- Calcula el promedio de las calificaciones."
   ]
  },
  {
   "cell_type": "code",
   "execution_count": 5,
   "id": "41b747dc",
   "metadata": {},
   "outputs": [
    {
     "name": "stdout",
     "output_type": "stream",
     "text": [
      "El promedio de las calificaciones es: 8.879999999999999\n"
     ]
    }
   ],
   "source": [
    "# Lista de calificaciones\n",
    "calificaciones = [8.5, 9.2, 7.8, 8.9, 10]\n",
    "\n",
    "# Cálculo del promedio\n",
    "promedio = sum(calificaciones) / len(calificaciones)\n",
    "\n",
    "# Mostrar el resultado\n",
    "print(\"El promedio de las calificaciones es:\", promedio)\n"
   ]
  },
  {
   "cell_type": "markdown",
   "id": "699ac3a6",
   "metadata": {},
   "source": [
    "- Encuentra la calificación más alta y la más baja."
   ]
  },
  {
   "cell_type": "code",
   "execution_count": 6,
   "id": "0224afb4",
   "metadata": {},
   "outputs": [
    {
     "name": "stdout",
     "output_type": "stream",
     "text": [
      "La calificación más alta es: 10\n",
      "La calificación más baja es: 7.8\n"
     ]
    }
   ],
   "source": [
    "# Lista de calificaciones\n",
    "calificaciones = [8.5, 9.2, 7.8, 8.9, 10]\n",
    "\n",
    "# Calificación más alta\n",
    "calificacion_maxima = max(calificaciones)\n",
    "\n",
    "# Calificación más baja\n",
    "calificacion_minima = min(calificaciones)\n",
    "\n",
    "# Mostrar resultados\n",
    "print(\"La calificación más alta es:\", calificacion_maxima)\n",
    "print(\"La calificación más baja es:\", calificacion_minima)\n"
   ]
  },
  {
   "attachments": {},
   "cell_type": "markdown",
   "id": "innocent-university",
   "metadata": {},
   "source": [
    "# Limpieza de bienes raíces con Pandas para un análisis eficiente \n",
    "\n",
    "Este es un conjunto de datos (dataset) reales que fue descargado usando técnicas de web scraping. La data contiene registros de **Fotocasa**, el cual es uno de los sitios más populares de bienes raíces en España. Por favor no hagas esto (web scraping) a no ser que sea para propósitos académicos.\n",
    "\n",
    "El dataset fue descargado hace algunos años por Henry Navarro y en ningún caso se obtuvo beneficio económico de ello.\n",
    "\n",
    "Contiene miles de datos de casas reales publicadas en la web www.fotocasa.com. Tu objetivo es extraer tanta información como sea posible con el conocimiento que tienes hasta ahora de ciencia de datos.\n",
    "\n",
    "¡Comencemos!\n",
    "\n",
    "\n",
    "\n",
    "\n",
    "- Primero leamos y exploraremos el dataset"
   ]
  },
  {
   "cell_type": "code",
   "execution_count": 15,
   "id": "6e5da00c-c6c5-43e7-8e55-e8ec4cf8d139",
   "metadata": {},
   "outputs": [
    {
     "name": "stdout",
     "output_type": "stream",
     "text": [
      "   Unnamed: 0  id_realEstates  isNew                    realEstate_name  \\\n",
      "0           1       153771986  False            ferrari 57 inmobiliaria   \n",
      "1           2       153867863  False  tecnocasa fuenlabrada ferrocarril   \n",
      "2           3       153430440  False                 look find boadilla   \n",
      "3           4       152776331  False  tecnocasa fuenlabrada ferrocarril   \n",
      "4           5       153180188  False            ferrari 57 inmobiliaria   \n",
      "\n",
      "   phone_realEstate                                       url_inmueble  rooms  \\\n",
      "0       912177526.0  https://www.fotocasa.es/es/comprar/vivienda/ma...    3.0   \n",
      "1       916358736.0  https://www.fotocasa.es/es/comprar/vivienda/ma...    3.0   \n",
      "2       916350408.0  https://www.fotocasa.es/es/comprar/vivienda/ma...    2.0   \n",
      "3       916358736.0  https://www.fotocasa.es/es/comprar/vivienda/ma...    3.0   \n",
      "4       912177526.0  https://www.fotocasa.es/es/comprar/vivienda/ma...    2.0   \n",
      "\n",
      "   bathrooms  surface   price  ... level4Id level5Id level6Id level7Id  \\\n",
      "0        2.0    103.0  195000  ...        0        0        0        0   \n",
      "1        1.0      NaN   89000  ...        0        0        0        0   \n",
      "2        2.0     99.0  390000  ...        0        0        0        0   \n",
      "3        1.0     86.0   89000  ...        0        0        0        0   \n",
      "4        2.0    106.0  172000  ...        0        0        0        0   \n",
      "\n",
      "  level8Id accuracy          latitude          longitude zipCode customZone  \n",
      "0        0        0  40,2948276786438  -3,44402412135624     NaN        NaN  \n",
      "1        0        1          40,28674           -3,79351     NaN        NaN  \n",
      "2        0        0  40,4115646786438  -3,90662252135624     NaN        NaN  \n",
      "3        0        0  40,2853785786438  -3,79508142135624     NaN        NaN  \n",
      "4        0        0  40,2998774864376  -3,45226301356237     NaN        NaN  \n",
      "\n",
      "[5 rows x 37 columns]\n"
     ]
    }
   ],
   "source": [
    "import pandas as pd\n",
    "\n",
    "ds = pd.read_csv(r\"C:\\Users\\diana\\Downloads\\real_estate.csv\", sep=';')\n",
    "print(ds.head())"
   ]
  },
  {
   "cell_type": "markdown",
   "id": "19bc6aa8",
   "metadata": {},
   "source": [
    "- Muestra las primeras filas del archivo CSV"
   ]
  },
  {
   "cell_type": "code",
   "execution_count": 16,
   "id": "0d969141-1ca1-475f-982e-87a58b197167",
   "metadata": {},
   "outputs": [
    {
     "name": "stdout",
     "output_type": "stream",
     "text": [
      "   Unnamed: 0  id_realEstates  isNew                    realEstate_name  \\\n",
      "0           1       153771986  False            ferrari 57 inmobiliaria   \n",
      "1           2       153867863  False  tecnocasa fuenlabrada ferrocarril   \n",
      "2           3       153430440  False                 look find boadilla   \n",
      "3           4       152776331  False  tecnocasa fuenlabrada ferrocarril   \n",
      "4           5       153180188  False            ferrari 57 inmobiliaria   \n",
      "\n",
      "   phone_realEstate                                       url_inmueble  rooms  \\\n",
      "0       912177526.0  https://www.fotocasa.es/es/comprar/vivienda/ma...    3.0   \n",
      "1       916358736.0  https://www.fotocasa.es/es/comprar/vivienda/ma...    3.0   \n",
      "2       916350408.0  https://www.fotocasa.es/es/comprar/vivienda/ma...    2.0   \n",
      "3       916358736.0  https://www.fotocasa.es/es/comprar/vivienda/ma...    3.0   \n",
      "4       912177526.0  https://www.fotocasa.es/es/comprar/vivienda/ma...    2.0   \n",
      "\n",
      "   bathrooms  surface   price  ... level4Id level5Id level6Id level7Id  \\\n",
      "0        2.0    103.0  195000  ...        0        0        0        0   \n",
      "1        1.0      NaN   89000  ...        0        0        0        0   \n",
      "2        2.0     99.0  390000  ...        0        0        0        0   \n",
      "3        1.0     86.0   89000  ...        0        0        0        0   \n",
      "4        2.0    106.0  172000  ...        0        0        0        0   \n",
      "\n",
      "  level8Id accuracy          latitude          longitude zipCode customZone  \n",
      "0        0        0  40,2948276786438  -3,44402412135624     NaN        NaN  \n",
      "1        0        1          40,28674           -3,79351     NaN        NaN  \n",
      "2        0        0  40,4115646786438  -3,90662252135624     NaN        NaN  \n",
      "3        0        0  40,2853785786438  -3,79508142135624     NaN        NaN  \n",
      "4        0        0  40,2998774864376  -3,45226301356237     NaN        NaN  \n",
      "\n",
      "[5 rows x 37 columns]\n"
     ]
    }
   ],
   "source": [
    "print(ds.head())\n",
    "\n"
   ]
  },
  {
   "cell_type": "markdown",
   "id": "a1095c6b",
   "metadata": {},
   "source": [
    "Perfecto, esto fue una pequeña practica. ¡Ahora empecemos con los verdaderos ejercicios!"
   ]
  },
  {
   "attachments": {},
   "cell_type": "markdown",
   "id": "latin-guest",
   "metadata": {},
   "source": [
    "#### Ejercicio 01. ¿Cuál es la casa más cara en todo el dataset? (★☆☆)\n",
    "\n",
    "Imprime la dirección y el precio de la casa seleccionada. Por ejemplo:\n",
    "\n",
    "`La casa con dirección en Calle del Prado, Nº20 es la más cara y su precio es de 5000000 USD`"
   ]
  },
  {
   "cell_type": "code",
   "execution_count": 23,
   "id": "cdcba065-9165-4c3a-b2a7-daa1828b4243",
   "metadata": {},
   "outputs": [
    {
     "name": "stdout",
     "output_type": "stream",
     "text": [
      "🏠 Most expensive house in the dataset:\n",
      "Address: El Escorial\n",
      "Price: 8500000 USD\n"
     ]
    }
   ],
   "source": [
    "import pandas as pd\n",
    "\n",
    "# Load the dataset\n",
    "df = pd.read_csv(r\"C:\\Users\\diana\\Downloads\\real_estate.csv\", sep=';')\n",
    "\n",
    "# Find the maximum price\n",
    "max_price = df['price'].max()\n",
    "\n",
    "# Filter the row(s) with the maximum price\n",
    "most_expensive_house = df[df['price'] == max_price]\n",
    "\n",
    "# Print the address and price\n",
    "print(\"🏠 Most expensive house in the dataset:\")\n",
    "print(\"Address:\", most_expensive_house.iloc[0]['address'])\n",
    "print(\"Price:\", most_expensive_house.iloc[0]['price'], \"USD\")\n"
   ]
  },
  {
   "attachments": {},
   "cell_type": "markdown",
   "id": "lesser-cosmetic",
   "metadata": {},
   "source": [
    "#### Ejercicio 02. ¿Cuál es la casa más barata del dataset? (★☆☆)\n",
    "\n",
    "Este ejercicio es similar al ejercicio anterior, solo que ahora buscamos la casa con el precio más bajo. Recuerda imprimir la dirección y el precio de la casa seleccionada. Por ejemplo:\n",
    "\n",
    "`La casa con dirección en Calle Alcalá, Nº58 es la más barata y su precio es de 12000 USD`"
   ]
  },
  {
   "cell_type": "code",
   "execution_count": 24,
   "id": "lovely-oasis",
   "metadata": {},
   "outputs": [
    {
     "name": "stdout",
     "output_type": "stream",
     "text": [
      "🏠 Cheapest house in the dataset:\n",
      "Address: Parla\n",
      "Price: 0 USD\n"
     ]
    }
   ],
   "source": [
    "import pandas as pd\n",
    "\n",
    "# Load the dataset\n",
    "df = pd.read_csv(r\"C:\\Users\\diana\\Downloads\\real_estate.csv\", sep=';')\n",
    "\n",
    "# Find the minimum price\n",
    "min_price = df['price'].min()\n",
    "\n",
    "# Get the row(s) with that price\n",
    "cheapest_house = df[df['price'] == min_price]\n",
    "\n",
    "# Print address and price\n",
    "print(\"🏠 Cheapest house in the dataset:\")\n",
    "print(\"Address:\", cheapest_house.iloc[0]['address'])\n",
    "print(\"Price:\", cheapest_house.iloc[0]['price'], \"USD\")\n"
   ]
  },
  {
   "attachments": {},
   "cell_type": "markdown",
   "id": "compliant-fellowship",
   "metadata": {},
   "source": [
    "#### Ejercicio 03. ¿Cuál es la casa más grande y la más pequeña del dataset? (★☆☆)\n",
    "\n",
    "Imprime la dirección y el área de las casas seleccionadas. Por ejemplo:\n",
    "\n",
    "`La casa más grande está ubicada en Calle Gran Vía, Nº38 y su superficie es de 5000 metros`\n",
    "\n",
    "`La casa más pequeña está ubicada en Calle Mayor, Nº12 y su superficie es de 200 metros`\n",
    "\n",
    "Este ejercicio es similar al anterior, pero buscamos las casas más grandes y pequeñas en base a su superficie."
   ]
  },
  {
   "cell_type": "code",
   "execution_count": 27,
   "id": "bbccb926-0f5c-4e3e-a05a-6063e4f9d15b",
   "metadata": {},
   "outputs": [
    {
     "name": "stdout",
     "output_type": "stream",
     "text": [
      "🏠 Largest house:\n",
      "Address: Sevilla la Nueva\n",
      "Surface: 249000.0 m²\n",
      "\n",
      "🏠 Smallest house:\n",
      "Address: Calle Amparo,  Madrid Capital\n",
      "Surface: 15.0 m²\n"
     ]
    }
   ],
   "source": [
    "import pandas as pd\n",
    "\n",
    "# Leer el archivo\n",
    "df = pd.read_csv(r\"C:\\Users\\diana\\Downloads\\real_estate.csv\", sep=';')\n",
    "\n",
    "# Casa más grande\n",
    "max_surface = df['surface'].max()\n",
    "largest_house = df[df['surface'] == max_surface]\n",
    "\n",
    "# Casa más pequeña\n",
    "min_surface = df['surface'].min()\n",
    "smallest_house = df[df['surface'] == min_surface]\n",
    "\n",
    "# Imprimir resultados\n",
    "print(\"🏠 Largest house:\")\n",
    "print(\"Address:\", largest_house.iloc[0]['address'])\n",
    "print(\"Surface:\", largest_house.iloc[0]['surface'], \"m²\")\n",
    "\n",
    "print(\"\\n🏠 Smallest house:\")\n",
    "print(\"Address:\", smallest_house.iloc[0]['address'])\n",
    "print(\"Surface:\", smallest_house.iloc[0]['surface'], \"m²\")\n"
   ]
  },
  {
   "cell_type": "code",
   "execution_count": 26,
   "id": "every-tiffany",
   "metadata": {},
   "outputs": [
    {
     "name": "stdout",
     "output_type": "stream",
     "text": [
      "📋 Column names in the dataset:\n",
      "['Unnamed: 0', 'id_realEstates', 'isNew', 'realEstate_name', 'phone_realEstate', 'url_inmueble', 'rooms', 'bathrooms', 'surface', 'price', 'date', 'description', 'address', 'country', 'level1', 'level2', 'level3', 'level4', 'level5', 'level6', 'level7', 'level8', 'upperLevel', 'countryId', 'level1Id', 'level2Id', 'level3Id', 'level4Id', 'level5Id', 'level6Id', 'level7Id', 'level8Id', 'accuracy', 'latitude', 'longitude', 'zipCode', 'customZone']\n"
     ]
    }
   ],
   "source": [
    "import pandas as pd\n",
    "\n",
    "# Cargar el dataset\n",
    "df = pd.read_csv(r\"C:\\Users\\diana\\Downloads\\real_estate.csv\", sep=';')\n",
    "\n",
    "# Mostrar todas las columnas del archivo\n",
    "print(\"📋 Column names in the dataset:\")\n",
    "print(df.columns.tolist())\n",
    "\n"
   ]
  },
  {
   "attachments": {},
   "cell_type": "markdown",
   "id": "danish-spirit",
   "metadata": {},
   "source": [
    "#### Ejercicio 04. ¿Cuantas poblaciones contiene el dataset? (★☆☆)\n",
    "\n",
    "Cuenta el número de poblaciones únicas en la columna 'level5' e imprime el nombre de las poblaciones separadas por coma. Por ejemplo:\n",
    "\n",
    "`> print(populations)`\n",
    "\n",
    "`population1, population2, population3, ...`"
   ]
  },
  {
   "cell_type": "code",
   "execution_count": 28,
   "id": "exciting-accreditation",
   "metadata": {},
   "outputs": [
    {
     "name": "stdout",
     "output_type": "stream",
     "text": [
      "🏙️ El dataset contiene 168 poblaciones únicas.\n",
      "\n",
      "Poblaciones:\n",
      "Arganda del Rey, Fuenlabrada, Boadilla del Monte, Las Rozas de Madrid,  Madrid Capital, Villaviciosa de Odón, Pinto, Valdemoro, Navalcarnero, Pozuelo de Alarcón, Torrejón de Ardoz, Navalagamella, San Sebastián de los Reyes, Rivas-vaciamadrid, Alpedrete, Móstoles, San Fernando de Henares, Coslada, Becerril de la Sierra, Alcalá de Henares, Chinchón, Parla, Alcorcón, El Escorial, Leganés, Pedrezuela, Majadahonda, Villanueva de la Cañada, Villanueva del Pardillo, Torrelodones, Moralzarzal, Mejorada del Campo, Aranjuez, Corpa, Getafe, Velilla de San Antonio, Sevilla la Nueva, San Martín de la Vega, Villalbilla, Collado Villalba, Alcobendas, El Molar (Madrid), Moraleja de Enmedio, Algete, Campo Real, Torrejón de la Calzada, Colmenar Viejo, Valdemorillo, Fuente El Saz de Jarama, Tres Cantos, Arroyomolinos (Madrid), Griñón, Paracuellos de Jarama, Guadarrama, Titulcia, Galapagar, Collado Mediano, Los Molinos, San Lorenzo de El Escorial, Loeches, San Martín de Valdeiglesias, Navas del Rey, Bustarviejo, Manzanares El Real, Carabaña, Casarrubuelos, Cercedilla, Fresnedillas de la Oliva, Valdemaqueda, Robledo de Chavela, Miraflores de la Sierra, Humanes de Madrid, Valdetorres de Jarama, San Agustín del Guadalix, Ciempozuelos, Camarma de Esteruelas, Torres de la Alameda, Talamanca de Jarama, El Atazar, Hoyo de Manzanares, El Boalo - Cerceda – Mataelpino, El Álamo, Valdilecha, Valdeolmos-Alalpardo, Guadalix de la Sierra, Belmonte de Tajo, El Vellón, Brunete, Redueña, Morata de Tajuña, Tielmes, Gargantilla del Lozoya, Meco, Venturada, Quijorna, Cenicientos, Torrejón de Velasco, Navacerrada, Santa María de la Alameda, Orusco de Tajuña, Daganzo de Arriba, Villamanta, Anchuelo, Valdaracete, Ajalvir, Los Santos de la Humosa, Villamanrique de Tajo, Colmenar de Oreja, Villa del Prado, Fuentidueña de Tajo, Colmenar del Arroyo, Valdelaguna, Cubas de la Sagra, Valdeavero, Aldea del Fresno, Ribatejada, Torrelaguna, Batres, Pezuela de las Torres, Colmenarejo, Serranillos del Valle, Cobeña, Soto del Real, El Berrueco, Villanueva de Perales, Fresno de Torote - Serracines, Pozuelo del Rey, Pelayos de la Presa, La Cabrera, Nuevo Baztán, Perales de Tajuña, Villaconejos, Villarejo de Salvanés, Cadalso de los Vidrios, Santorcaz, Madarcos, Garganta de los Montes, Puentes Viejas, Torremocha de Jarama, Valdemanco, Braojos, Lozoyuela-navas-sieteiglesias, Piñuécar-gandullas, Valdepiélagos, Valverde de Alcalá, Villar del Olmo, Villamantilla, Horcajo de la Sierra, Gascones, Zarzalejo, Villavieja del Lozoya, Brea de Tajo, Estremera, Chapinería, Navarredonda, Patones, Ambite, Navalafuente, Lozoya, Canencia, Cabanillas de la Sierra, Buitrago del Lozoya, Fresno de Torote, Robregordo, Pinilla del Valle, Rascafría, La Hiruela, Montejo de la Sierra\n"
     ]
    }
   ],
   "source": [
    "import pandas as pd\n",
    "\n",
    "# Cargar el archivo\n",
    "df = pd.read_csv(r\"C:\\Users\\diana\\Downloads\\real_estate.csv\", sep=';')\n",
    "\n",
    "# Eliminar valores nulos para evitar errores\n",
    "poblaciones = df['level5'].dropna().unique()\n",
    "\n",
    "# Contar cuántas poblaciones distintas hay\n",
    "num_poblaciones = len(poblaciones)\n",
    "\n",
    "# Imprimir resultados\n",
    "print(f\"🏙️ El dataset contiene {num_poblaciones} poblaciones únicas.\\n\")\n",
    "print(\"Poblaciones:\")\n",
    "print(\", \".join(poblaciones))\n"
   ]
  },
  {
   "attachments": {},
   "cell_type": "markdown",
   "id": "crazy-blame",
   "metadata": {},
   "source": [
    "#### Ejercicio 05. ¿El dataset contiene valores nulos (NAs)? (★☆☆)\n",
    "\n",
    "Imprima un booleano (`True` o `False`) para verificar si hay valores nulos seguido de las columnas que contiene el NAs."
   ]
  },
  {
   "cell_type": "code",
   "execution_count": 29,
   "id": "transparent-poetry",
   "metadata": {},
   "outputs": [
    {
     "name": "stdout",
     "output_type": "stream",
     "text": [
      "¿El dataset contiene valores nulos?: True\n",
      "Columnas con valores nulos: ['realEstate_name', 'phone_realEstate', 'rooms', 'bathrooms', 'surface', 'description', 'level4', 'level6', 'level7', 'level8', 'zipCode', 'customZone']\n"
     ]
    }
   ],
   "source": [
    "import pandas as pd\n",
    "\n",
    "# Cargar el dataset\n",
    "df = pd.read_csv(r\"C:\\Users\\diana\\Downloads\\real_estate.csv\", sep=';')\n",
    "\n",
    "# Verificar si hay valores nulos en todo el DataFrame\n",
    "has_nas = df.isnull().values.any()\n",
    "\n",
    "# Obtener las columnas que contienen al menos un valor nulo\n",
    "columns_with_nas = df.columns[df.isnull().any()].tolist()\n",
    "\n",
    "# Imprimir resultados\n",
    "print(\"¿El dataset contiene valores nulos?:\", has_nas)\n",
    "print(\"Columnas con valores nulos:\", columns_with_nas)\n"
   ]
  },
  {
   "attachments": {},
   "cell_type": "markdown",
   "id": "italic-hydrogen",
   "metadata": {},
   "source": [
    "#### Ejercicio 06. Elimina los valores nulos (NAs) del dataset, si aplica (★★☆)\n",
    "\n",
    "Despues de eliminar los valores nulos, compara el tamaño del DataFrame antes y después de la eliminación.\n"
   ]
  },
  {
   "cell_type": "code",
   "execution_count": 30,
   "id": "administrative-roads",
   "metadata": {},
   "outputs": [
    {
     "name": "stdout",
     "output_type": "stream",
     "text": [
      "📊 Tamaño original del DataFrame: (15335, 37)\n",
      "🧹 Tamaño después de eliminar NAs: (0, 37)\n"
     ]
    }
   ],
   "source": [
    "import pandas as pd\n",
    "\n",
    "# Cargar el dataset\n",
    "df = pd.read_csv(r\"C:\\Users\\diana\\Downloads\\real_estate.csv\", sep=';')\n",
    "\n",
    "# Tamaño del DataFrame original\n",
    "original_shape = df.shape\n",
    "\n",
    "# Eliminar filas con valores nulos\n",
    "df_cleaned = df.dropna()\n",
    "\n",
    "# Tamaño del DataFrame después de eliminar nulos\n",
    "cleaned_shape = df_cleaned.shape\n",
    "\n",
    "# Imprimir resultados\n",
    "print(\"📊 Tamaño original del DataFrame:\", original_shape)\n",
    "print(\"🧹 Tamaño después de eliminar NAs:\", cleaned_shape)\n"
   ]
  },
  {
   "attachments": {},
   "cell_type": "markdown",
   "id": "middle-china",
   "metadata": {},
   "source": [
    "#### Ejercicio 07. ¿Cuál es la media de precios en la población de \"Arroyomolinos (Madrid)\"? (★★☆)\n",
    "\n",
    "Imprima el valor obtenido de la columna level5."
   ]
  },
  {
   "cell_type": "code",
   "execution_count": 31,
   "id": "nuclear-belief",
   "metadata": {},
   "outputs": [
    {
     "name": "stdout",
     "output_type": "stream",
     "text": [
      "💰 Media de precios en Arroyomolinos (Madrid): 294541.6 USD\n"
     ]
    }
   ],
   "source": [
    "import pandas as pd\n",
    "\n",
    "# Cargar el dataset\n",
    "df = pd.read_csv(r\"C:\\Users\\diana\\Downloads\\real_estate.csv\", sep=';')\n",
    "\n",
    "# Filtrar por población \"Arroyomolinos (Madrid)\" en la columna 'level5'\n",
    "arroyomolinos = df[df['level5'] == \"Arroyomolinos (Madrid)\"]\n",
    "\n",
    "# Calcular la media de la columna 'price'\n",
    "mean_price = arroyomolinos['price'].mean()\n",
    "\n",
    "# Imprimir el resultado\n",
    "print(\"💰 Media de precios en Arroyomolinos (Madrid):\", round(mean_price, 2), \"USD\")\n"
   ]
  },
  {
   "attachments": {},
   "cell_type": "markdown",
   "id": "concerned-radical",
   "metadata": {},
   "source": [
    "#### Ejercicio 08. Trazar el histograma de los precios para la población de \"Arroyomolinos (Madrid)\" y explica qué observas (★★☆)\n",
    "\n",
    "Imprime el histograma de los precios y escribe en la celda del Markdown un breve análisis del trazado.\n"
   ]
  },
  {
   "cell_type": "code",
   "execution_count": 32,
   "id": "sudden-message",
   "metadata": {},
   "outputs": [
    {
     "data": {
      "image/png": "[encoded data removed]",
      "text/plain": [
       "<Figure size 1000x600 with 1 Axes>"
      ]
     },
     "metadata": {},
     "output_type": "display_data"
    }
   ],
   "source": [
    "import matplotlib.pyplot as plt\n",
    "\n",
    "import pandas as pd\n",
    "import matplotlib.pyplot as plt\n",
    "\n",
    "# Cargar el dataset\n",
    "df = pd.read_csv(r\"C:\\Users\\diana\\Downloads\\real_estate.csv\", sep=';')\n",
    "\n",
    "# Filtrar por \"Arroyomolinos (Madrid)\"\n",
    "arroyomolinos = df[df['level5'] == \"Arroyomolinos (Madrid)\"]\n",
    "\n",
    "# Histograma de precios\n",
    "plt.figure(figsize=(10, 6))\n",
    "plt.hist(arroyomolinos['price'], bins=20, color='skyblue', edgecolor='black')\n",
    "plt.title('Distribución de Precios en Arroyomolinos (Madrid)')\n",
    "plt.xlabel('Precio (USD)')\n",
    "plt.ylabel('Frecuencia')\n",
    "plt.grid(True)\n",
    "plt.show()\n"
   ]
  }
 ],
 "metadata": {
  "kernelspec": {
   "display_name": "Python 3 (ipykernel)",
   "language": "python",
   "name": "python3"
  },
  "language_info": {
   "codemirror_mode": {
    "name": "ipython",
    "version": 3
   },
   "file_extension": ".py",
   "mimetype": "text/x-python",
   "name": "python",
   "nbconvert_exporter": "python",
   "pygments_lexer": "ipython3",
   "version": "3.13.1"
  }
 },
 "nbformat": 4,
 "nbformat_minor": 5
}
